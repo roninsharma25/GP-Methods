{
 "cells": [
  {
   "cell_type": "code",
   "execution_count": 1,
   "metadata": {},
   "outputs": [],
   "source": [
    "from TA_gp import *\n",
    "from TA_plot import *\n",
    "from similarity import *\n",
    "from testKernels import *\n",
    "from gpytorch.kernels import Kernel, MaternKernel, RBFKernel"
   ]
  },
  {
   "cell_type": "code",
   "execution_count": null,
   "metadata": {},
   "outputs": [],
   "source": [
    "fixed_params = {\n",
    "    'Drive fitness': 0.88,\n",
    "    'Release percent': 0.25,\n",
    "    'Embryo cut rate': 0.95,\n",
    "    'Germline cut rate': 0.99,\n",
    "}\n",
    "param_ranges = {\n",
    "    \"Drive fitness\" : (0.5, 1),\n",
    "    \"Release percent\" : (0, 1),\n",
    "    \"Embryo cut rate\" : (0, 1),\n",
    "    \"Germline cut rate\" : (0, 1),\n",
    "}"
   ]
  },
  {
   "cell_type": "code",
   "execution_count": null,
   "metadata": {
    "scrolled": false
   },
   "outputs": [],
   "source": [
    "# periodic/polynomial fail\n",
    "    # Training data points might be too close or repeated\n",
    "\n",
    "for kernel in ['matern', 'rbf', 'rq']:#, 'periodic', 'polynomial']:\n",
    "    model = TA_GP('1.csv', kernel = kernel)\n",
    "    model.train(1)\n",
    "    plot_1d(model, 'Drive fitness', fixed_params = fixed_params, param_ranges = param_ranges)\n",
    "\n",
    "#model.get_adaptive_points(thres=0.95)"
   ]
  },
  {
   "cell_type": "code",
   "execution_count": null,
   "metadata": {},
   "outputs": [],
   "source": [
    "model = TA_GP('1.csv', compound = 'add', k1 = MaternKernel(), k2 = RBFKernel())\n",
    "model.train(1)\n",
    "plot_1d(model, 'Drive fitness', fixed_params = fixed_params, param_ranges = param_ranges)"
   ]
  },
  {
   "cell_type": "code",
   "execution_count": 3,
   "metadata": {},
   "outputs": [
    {
     "name": "stdout",
     "output_type": "stream",
     "text": [
      "Model saved.\n",
      "Number of New Points: 0\n",
      "Outputting adaptive paramset to \"adaptive_run.sh\".\n",
      "Done.\n",
      "Model saved.\n",
      "Model saved.\n",
      "Number of New Points: 0\n",
      "Outputting adaptive paramset to \"adaptive_run.sh\".\n",
      "Done.\n",
      "Model saved.\n"
     ]
    }
   ],
   "source": [
    "singleKernels()"
   ]
  },
  {
   "cell_type": "code",
   "execution_count": null,
   "metadata": {},
   "outputs": [],
   "source": []
  }
 ],
 "metadata": {
  "kernelspec": {
   "display_name": "Python 3",
   "language": "python",
   "name": "python3"
  },
  "language_info": {
   "codemirror_mode": {
    "name": "ipython",
    "version": 3
   },
   "file_extension": ".py",
   "mimetype": "text/x-python",
   "name": "python",
   "nbconvert_exporter": "python",
   "pygments_lexer": "ipython3",
   "version": "3.6.5"
  }
 },
 "nbformat": 4,
 "nbformat_minor": 2
}
